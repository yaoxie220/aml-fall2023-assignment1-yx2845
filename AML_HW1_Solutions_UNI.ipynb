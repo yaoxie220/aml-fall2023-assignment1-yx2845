{
 "cells": [
  {
   "cell_type": "markdown",
   "id": "4c63f41a",
   "metadata": {},
   "source": [
    "## Homework 1: Applied Machine Learning"
   ]
  },
  {
   "cell_type": "markdown",
   "id": "a6168d8c",
   "metadata": {},
   "source": [
    "This assignment covers contents of the first three lectures. \n",
    "\n",
    "The emphasis for this assignment would be on the following:\n",
    "1. Data Visualization and Analysis\n",
    "2. Linear Models for Regression and Classification\n",
    "3. Support Vector Machines"
   ]
  },
  {
   "cell_type": "code",
   "execution_count": 1,
   "id": "a8ebd22f",
   "metadata": {},
   "outputs": [],
   "source": [
    "import warnings\n",
    "\n",
    "def fxn():\n",
    "    warnings.warn(\"deprecated\", DeprecationWarning)\n",
    "\n",
    "with warnings.catch_warnings():\n",
    "    warnings.simplefilter(\"ignore\")\n",
    "    fxn()"
   ]
  },
  {
   "cell_type": "code",
   "execution_count": 2,
   "id": "5c4b6bbb",
   "metadata": {},
   "outputs": [],
   "source": [
    "import numpy as np\n",
    "import pandas as pd\n",
    "import seaborn as sns\n",
    "import matplotlib.pyplot as plt\n",
    "from numpy.linalg import inv\n",
    "%matplotlib inline\n",
    "from sklearn.model_selection import train_test_split\n",
    "from sklearn.preprocessing import StandardScaler, OneHotEncoder, OrdinalEncoder\n",
    "from sklearn.metrics import r2_score\n",
    "from sklearn.svm import LinearSVC, SVC"
   ]
  },
  {
   "cell_type": "markdown",
   "id": "8953e7b8",
   "metadata": {},
   "source": [
    "## Part 1: Data Visualization and Analysis"
   ]
  },
  {
   "cell_type": "markdown",
   "id": "32d79413",
   "metadata": {},
   "source": [
    "Data visualization comes in handy when we want to understand data characteristics and read patterns in datasets with thousands of samples and features.\n",
    "\n",
    "<b>Note: Remember to label plot axes while plotting.</b>\n",
    "\n",
    "### The dataset to be used for this section is bike_rental.csv.\n"
   ]
  },
  {
   "cell_type": "code",
   "execution_count": 3,
   "id": "61135e32",
   "metadata": {},
   "outputs": [
    {
     "data": {
      "text/html": [
       "<div>\n",
       "<style scoped>\n",
       "    .dataframe tbody tr th:only-of-type {\n",
       "        vertical-align: middle;\n",
       "    }\n",
       "\n",
       "    .dataframe tbody tr th {\n",
       "        vertical-align: top;\n",
       "    }\n",
       "\n",
       "    .dataframe thead th {\n",
       "        text-align: right;\n",
       "    }\n",
       "</style>\n",
       "<table border=\"1\" class=\"dataframe\">\n",
       "  <thead>\n",
       "    <tr style=\"text-align: right;\">\n",
       "      <th></th>\n",
       "      <th>month</th>\n",
       "      <th>season</th>\n",
       "      <th>holiday</th>\n",
       "      <th>weekday</th>\n",
       "      <th>working_day</th>\n",
       "      <th>weather</th>\n",
       "      <th>temp</th>\n",
       "      <th>feels_temp</th>\n",
       "      <th>humidity</th>\n",
       "      <th>windspeed</th>\n",
       "      <th>casual</th>\n",
       "      <th>registered</th>\n",
       "      <th>count</th>\n",
       "    </tr>\n",
       "  </thead>\n",
       "  <tbody>\n",
       "    <tr>\n",
       "      <th>0</th>\n",
       "      <td>January</td>\n",
       "      <td>winter</td>\n",
       "      <td>No</td>\n",
       "      <td>Saturday</td>\n",
       "      <td>No</td>\n",
       "      <td>cloudy</td>\n",
       "      <td>0.344167</td>\n",
       "      <td>0.363625</td>\n",
       "      <td>0.805833</td>\n",
       "      <td>0.160446</td>\n",
       "      <td>331</td>\n",
       "      <td>654</td>\n",
       "      <td>985</td>\n",
       "    </tr>\n",
       "    <tr>\n",
       "      <th>1</th>\n",
       "      <td>January</td>\n",
       "      <td>winter</td>\n",
       "      <td>No</td>\n",
       "      <td>Sunday</td>\n",
       "      <td>No</td>\n",
       "      <td>cloudy</td>\n",
       "      <td>0.363478</td>\n",
       "      <td>0.353739</td>\n",
       "      <td>0.696087</td>\n",
       "      <td>0.248539</td>\n",
       "      <td>131</td>\n",
       "      <td>670</td>\n",
       "      <td>801</td>\n",
       "    </tr>\n",
       "    <tr>\n",
       "      <th>2</th>\n",
       "      <td>January</td>\n",
       "      <td>winter</td>\n",
       "      <td>No</td>\n",
       "      <td>Monday</td>\n",
       "      <td>Yes</td>\n",
       "      <td>clear</td>\n",
       "      <td>0.196364</td>\n",
       "      <td>0.189405</td>\n",
       "      <td>0.437273</td>\n",
       "      <td>0.248309</td>\n",
       "      <td>120</td>\n",
       "      <td>1229</td>\n",
       "      <td>1349</td>\n",
       "    </tr>\n",
       "    <tr>\n",
       "      <th>3</th>\n",
       "      <td>January</td>\n",
       "      <td>winter</td>\n",
       "      <td>No</td>\n",
       "      <td>Tuesday</td>\n",
       "      <td>Yes</td>\n",
       "      <td>clear</td>\n",
       "      <td>0.200000</td>\n",
       "      <td>0.212122</td>\n",
       "      <td>0.590435</td>\n",
       "      <td>0.160296</td>\n",
       "      <td>108</td>\n",
       "      <td>1454</td>\n",
       "      <td>1562</td>\n",
       "    </tr>\n",
       "    <tr>\n",
       "      <th>4</th>\n",
       "      <td>January</td>\n",
       "      <td>winter</td>\n",
       "      <td>No</td>\n",
       "      <td>Wednesday</td>\n",
       "      <td>Yes</td>\n",
       "      <td>clear</td>\n",
       "      <td>0.226957</td>\n",
       "      <td>0.229270</td>\n",
       "      <td>0.436957</td>\n",
       "      <td>0.186900</td>\n",
       "      <td>82</td>\n",
       "      <td>1518</td>\n",
       "      <td>1600</td>\n",
       "    </tr>\n",
       "    <tr>\n",
       "      <th>...</th>\n",
       "      <td>...</td>\n",
       "      <td>...</td>\n",
       "      <td>...</td>\n",
       "      <td>...</td>\n",
       "      <td>...</td>\n",
       "      <td>...</td>\n",
       "      <td>...</td>\n",
       "      <td>...</td>\n",
       "      <td>...</td>\n",
       "      <td>...</td>\n",
       "      <td>...</td>\n",
       "      <td>...</td>\n",
       "      <td>...</td>\n",
       "    </tr>\n",
       "    <tr>\n",
       "      <th>726</th>\n",
       "      <td>December</td>\n",
       "      <td>winter</td>\n",
       "      <td>No</td>\n",
       "      <td>Thursday</td>\n",
       "      <td>Yes</td>\n",
       "      <td>cloudy</td>\n",
       "      <td>0.254167</td>\n",
       "      <td>0.226642</td>\n",
       "      <td>0.652917</td>\n",
       "      <td>0.350133</td>\n",
       "      <td>247</td>\n",
       "      <td>1867</td>\n",
       "      <td>2114</td>\n",
       "    </tr>\n",
       "    <tr>\n",
       "      <th>727</th>\n",
       "      <td>December</td>\n",
       "      <td>winter</td>\n",
       "      <td>No</td>\n",
       "      <td>Friday</td>\n",
       "      <td>Yes</td>\n",
       "      <td>cloudy</td>\n",
       "      <td>0.253333</td>\n",
       "      <td>0.255046</td>\n",
       "      <td>0.590000</td>\n",
       "      <td>0.155471</td>\n",
       "      <td>644</td>\n",
       "      <td>2451</td>\n",
       "      <td>3095</td>\n",
       "    </tr>\n",
       "    <tr>\n",
       "      <th>728</th>\n",
       "      <td>December</td>\n",
       "      <td>winter</td>\n",
       "      <td>No</td>\n",
       "      <td>Saturday</td>\n",
       "      <td>No</td>\n",
       "      <td>cloudy</td>\n",
       "      <td>0.253333</td>\n",
       "      <td>0.242400</td>\n",
       "      <td>0.752917</td>\n",
       "      <td>0.124383</td>\n",
       "      <td>159</td>\n",
       "      <td>1182</td>\n",
       "      <td>1341</td>\n",
       "    </tr>\n",
       "    <tr>\n",
       "      <th>729</th>\n",
       "      <td>December</td>\n",
       "      <td>winter</td>\n",
       "      <td>No</td>\n",
       "      <td>Sunday</td>\n",
       "      <td>No</td>\n",
       "      <td>clear</td>\n",
       "      <td>0.255833</td>\n",
       "      <td>0.231700</td>\n",
       "      <td>0.483333</td>\n",
       "      <td>0.350754</td>\n",
       "      <td>364</td>\n",
       "      <td>1432</td>\n",
       "      <td>1796</td>\n",
       "    </tr>\n",
       "    <tr>\n",
       "      <th>730</th>\n",
       "      <td>December</td>\n",
       "      <td>winter</td>\n",
       "      <td>No</td>\n",
       "      <td>Monday</td>\n",
       "      <td>Yes</td>\n",
       "      <td>cloudy</td>\n",
       "      <td>0.215833</td>\n",
       "      <td>0.223487</td>\n",
       "      <td>0.577500</td>\n",
       "      <td>0.154846</td>\n",
       "      <td>439</td>\n",
       "      <td>2290</td>\n",
       "      <td>2729</td>\n",
       "    </tr>\n",
       "  </tbody>\n",
       "</table>\n",
       "<p>731 rows × 13 columns</p>\n",
       "</div>"
      ],
      "text/plain": [
       "        month  season holiday    weekday working_day weather      temp  \\\n",
       "0     January  winter      No   Saturday          No  cloudy  0.344167   \n",
       "1     January  winter      No     Sunday          No  cloudy  0.363478   \n",
       "2     January  winter      No     Monday         Yes   clear  0.196364   \n",
       "3     January  winter      No    Tuesday         Yes   clear  0.200000   \n",
       "4     January  winter      No  Wednesday         Yes   clear  0.226957   \n",
       "..        ...     ...     ...        ...         ...     ...       ...   \n",
       "726  December  winter      No   Thursday         Yes  cloudy  0.254167   \n",
       "727  December  winter      No     Friday         Yes  cloudy  0.253333   \n",
       "728  December  winter      No   Saturday          No  cloudy  0.253333   \n",
       "729  December  winter      No     Sunday          No   clear  0.255833   \n",
       "730  December  winter      No     Monday         Yes  cloudy  0.215833   \n",
       "\n",
       "     feels_temp  humidity  windspeed  casual  registered  count  \n",
       "0      0.363625  0.805833   0.160446     331         654    985  \n",
       "1      0.353739  0.696087   0.248539     131         670    801  \n",
       "2      0.189405  0.437273   0.248309     120        1229   1349  \n",
       "3      0.212122  0.590435   0.160296     108        1454   1562  \n",
       "4      0.229270  0.436957   0.186900      82        1518   1600  \n",
       "..          ...       ...        ...     ...         ...    ...  \n",
       "726    0.226642  0.652917   0.350133     247        1867   2114  \n",
       "727    0.255046  0.590000   0.155471     644        2451   3095  \n",
       "728    0.242400  0.752917   0.124383     159        1182   1341  \n",
       "729    0.231700  0.483333   0.350754     364        1432   1796  \n",
       "730    0.223487  0.577500   0.154846     439        2290   2729  \n",
       "\n",
       "[731 rows x 13 columns]"
      ]
     },
     "execution_count": 3,
     "metadata": {},
     "output_type": "execute_result"
    }
   ],
   "source": [
    "# Load the dataset\n",
    "bike_rental_df = pd.read_csv('bike_rental.csv')\n",
    "bike_rental_df"
   ]
  },
  {
   "cell_type": "markdown",
   "id": "c654de2b",
   "metadata": {},
   "source": [
    "<b> 1.1 Create a bar chart to compare the average bike rental count on holiday and non-holiday weekdays. Are there differences in rental patterns? </b>"
   ]
  },
  {
   "cell_type": "code",
   "execution_count": 4,
   "id": "4bf04d4a",
   "metadata": {},
   "outputs": [],
   "source": [
    "### Code here\n"
   ]
  },
  {
   "cell_type": "code",
   "execution_count": 5,
   "id": "f58feee3",
   "metadata": {},
   "outputs": [],
   "source": [
    "### Comment here\n"
   ]
  },
  {
   "cell_type": "markdown",
   "id": "19775726",
   "metadata": {},
   "source": [
    "<b> 1.2 Plot a small multiple of bar charts to understand data distribution of the following categorical variables. </b>\n",
    "1. month \n",
    "2. season\n",
    "3. working_day\n",
    "4. weather\n",
    "<b></b>"
   ]
  },
  {
   "cell_type": "code",
   "execution_count": 6,
   "id": "3cc55aba",
   "metadata": {
    "scrolled": false
   },
   "outputs": [],
   "source": [
    "### Code here\n"
   ]
  },
  {
   "cell_type": "markdown",
   "id": "635fd0a9",
   "metadata": {},
   "source": [
    "<b> 1.3 Compare the number of registered and casual bike rentals over time by month. Create a stacked bar chart to show the contributions of each user type. </b>"
   ]
  },
  {
   "cell_type": "code",
   "execution_count": 7,
   "id": "43e12866",
   "metadata": {},
   "outputs": [],
   "source": [
    "### Code here\n",
    "\n"
   ]
  },
  {
   "cell_type": "markdown",
   "id": "6e31ae61",
   "metadata": {},
   "source": [
    "<b> 1.4 Plot relationships between the following features and the target variable count as a small multiple of scatter plots. </b>\n",
    "\n",
    "1. temp\n",
    "2. feels_temp\n",
    "3. humidity\n",
    "4. windspeed\n",
    "<b></b>"
   ]
  },
  {
   "cell_type": "code",
   "execution_count": 8,
   "id": "eb04cac6",
   "metadata": {},
   "outputs": [],
   "source": [
    "### Code here\n",
    "\n"
   ]
  },
  {
   "cell_type": "markdown",
   "id": "02351dde",
   "metadata": {},
   "source": [
    "## Part 2: Linear Models for Regression and Classification\n",
    "\n",
    "In this section, we will be implementing three linear models **linear regression, logistic regression, and SVM**. We will see that despite some of their differences at the surface, these linear models (and many machine learning models in general) are fundamentally doing the same thing - that is, optimizing model parameters to minimize a loss function on data."
   ]
  },
  {
   "cell_type": "markdown",
   "id": "827061fc",
   "metadata": {},
   "source": [
    "### 2.1 Linear Regression\n"
   ]
  },
  {
   "cell_type": "markdown",
   "id": "7b15f701",
   "metadata": {},
   "source": [
    "The objective of this dataset is to predict the count of bike rentals based on weather and time. We will use linear regression to predict the count using weather and time. "
   ]
  },
  {
   "cell_type": "code",
   "execution_count": 9,
   "id": "938b19cc",
   "metadata": {},
   "outputs": [],
   "source": [
    "# split data into features and labels\n",
    "\n",
    "bike_rental_X = bike_rental_df.drop(columns=['count'])\n",
    "bike_rental_y = bike_rental_df['count']"
   ]
  },
  {
   "cell_type": "markdown",
   "id": "ca73bc64",
   "metadata": {},
   "source": [
    "**2.1.1 Plot the relationships between the label (count) and the continuous features (temp, feels_temp, humidity, windspeed, casual, registered) using a small multiple of scatter plots. Make sure to label the axes.**"
   ]
  },
  {
   "cell_type": "code",
   "execution_count": 10,
   "id": "2b989f12",
   "metadata": {},
   "outputs": [],
   "source": [
    "### Code here\n",
    "\n"
   ]
  },
  {
   "cell_type": "markdown",
   "id": "c7125b5a",
   "metadata": {},
   "source": [
    "**2.1.2 From the visualizations above, do you think linear regression is a good model for this problem? Why and/or why not? Please explain.**"
   ]
  },
  {
   "cell_type": "code",
   "execution_count": 11,
   "id": "0c597cb1",
   "metadata": {},
   "outputs": [],
   "source": [
    "### Comment here\n"
   ]
  },
  {
   "cell_type": "markdown",
   "id": "0c506563",
   "metadata": {},
   "source": [
    "### Data Preprocessing\n",
    "\n",
    "Before we can fit a linear regression model, there are several pre-processing steps we should apply to the datasets:\n",
    "\n",
    "1. Encode categorial features appropriately.\n",
    "2. Remove highly collinear features by reading the correlation plot.\n",
    "3. Split the dataset into training (60%), validation (20%), and test (20%) sets.\n",
    "4. Standardize the columns in the feature matrices X_train, X_val, and X_test to have zero mean and unit variance. To avoid information leakage, learn the standardization parameters (mean, variance) from X_train, and apply it to X_train, X_val, and X_test.\n",
    "5. Add a column of ones to the feature matrices X_train, X_val, and X_test. This is a common trick so that we can learn a coefficient for the bias term of a linear model.\n"
   ]
  },
  {
   "cell_type": "markdown",
   "id": "e4fb1681",
   "metadata": {},
   "source": [
    "**2.1.3 Encode the categorical variables of the Bike Rental dataset.**"
   ]
  },
  {
   "cell_type": "code",
   "execution_count": 12,
   "id": "dd5a01e1",
   "metadata": {},
   "outputs": [],
   "source": [
    "### Code here\n"
   ]
  },
  {
   "cell_type": "code",
   "execution_count": 13,
   "id": "f46c2812",
   "metadata": {},
   "outputs": [],
   "source": [
    "### Code here\n"
   ]
  },
  {
   "cell_type": "markdown",
   "id": "506c6d2f",
   "metadata": {},
   "source": [
    "**2.1.4 Plot the correlation matrix, and check if there is high correlation between the given numerical features (Threshold >=0.9). If yes, drop one from each pair of highly correlated features from the dataframe. Why is necessary to drop those columns before proceeding further?**"
   ]
  },
  {
   "cell_type": "code",
   "execution_count": 14,
   "id": "90fcf047",
   "metadata": {},
   "outputs": [],
   "source": [
    "### Code here\n",
    "\n"
   ]
  },
  {
   "cell_type": "code",
   "execution_count": 15,
   "id": "4448aac9",
   "metadata": {},
   "outputs": [],
   "source": [
    "### Code here\n"
   ]
  },
  {
   "cell_type": "code",
   "execution_count": 16,
   "id": "c238b6b3",
   "metadata": {},
   "outputs": [],
   "source": [
    "### Comment here\n"
   ]
  },
  {
   "cell_type": "markdown",
   "id": "9f399b30",
   "metadata": {},
   "source": [
    "**2.1.5 Split the dataset into training (60%), validation (20%), and test (20%) sets.**"
   ]
  },
  {
   "cell_type": "code",
   "execution_count": 17,
   "id": "762148ac",
   "metadata": {},
   "outputs": [],
   "source": [
    "### Code here\n"
   ]
  },
  {
   "cell_type": "markdown",
   "id": "24b496c9",
   "metadata": {},
   "source": [
    "**2.1.6 Standardize the columns in the feature matrices.**"
   ]
  },
  {
   "cell_type": "code",
   "execution_count": 18,
   "id": "0e26e324",
   "metadata": {},
   "outputs": [],
   "source": [
    "### Code here\n"
   ]
  },
  {
   "cell_type": "code",
   "execution_count": 19,
   "id": "9f578552",
   "metadata": {},
   "outputs": [],
   "source": [
    "#Adding a column of ones to the feature matrices for the bias term.\n",
    "\n",
    "# bike_rental_X_train = np.hstack([np.ones((bike_rental_X_train.shape[0], 1)), bike_rental_X_train])\n",
    "# bike_rental_X_val = np.hstack([np.ones((bike_rental_X_val.shape[0], 1)), bike_rental_X_val])\n",
    "# bike_rental_X_test = np.hstack([np.ones((bike_rental_X_test.shape[0], 1)), bike_rental_X_test])\n"
   ]
  },
  {
   "cell_type": "markdown",
   "id": "28e5828d",
   "metadata": {},
   "source": [
    "At the end of this pre-processing, you should have the following vectors and matrices: \n",
    "- Bike Rental Prediction dataset: bike_rental_X_train, bike_rental_X_val, bike_rental_X_test, bike_rental_y_train, bike_rental_y_val, bike_rental_y_test"
   ]
  },
  {
   "cell_type": "markdown",
   "id": "bfa6ebb6",
   "metadata": {},
   "source": [
    "### Implement Linear Regression"
   ]
  },
  {
   "cell_type": "markdown",
   "id": "e2219502",
   "metadata": {},
   "source": [
    "Now, we can implement our linear regression model! Specifically, we will be implementing ridge regression, which is linear regression with L2 regularization. Given an (m x n) feature matrix $X$, an (m x 1) label vector $y$, and an (n x 1) weight vector $w$, the hypothesis function for linear regression is:\n",
    "\n",
    "$$\n",
    "y = X w\n",
    "$$\n",
    "\n",
    "Note that we can omit the bias term here because we have included a column of ones in our $X$ matrix, so the bias term is learned implicitly as a part of $w$. This will make our implementation easier.\n",
    "\n",
    "Our objective in linear regression is to learn the weights $w$ which best fit the data. This notion can be formalized as finding the optimal $w$ which minimizes the following loss function:\n",
    "\n",
    "$$\n",
    "\\min_{w} \\| X w - y \\|^2_2 + \\alpha \\| w \\|^2_2 \\\\\n",
    "$$\n",
    "\n",
    "This is the ridge regression loss function. The $\\| X w - y \\|^2_2$ term penalizes predictions $Xw$ which are not close to the label $y$. And the $\\alpha \\| w \\|^2_2$ penalizes large weight values, to favor a simpler, more generalizable model. The $\\alpha$ hyperparameter, known as the regularization parameter, is used to tune the complexity of the model - a higher $\\alpha$ results in smaller weights and lower complexity, and vice versa. Setting $\\alpha = 0$ gives us vanilla linear regression.\n",
    "\n",
    "Conveniently, ridge regression has a closed-form solution which gives us the optimal $w$ without having to do iterative methods such as gradient descent. The closed-form solution, known as the Normal Equations, is given by:\n",
    "\n",
    "$$\n",
    "w = (X^T X + \\alpha I)^{-1} X^T y\n",
    "$$"
   ]
  },
  {
   "cell_type": "markdown",
   "id": "032bf7ed",
   "metadata": {},
   "source": [
    "**2.1.7 Implement a `LinearRegression` class with two methods: `train` and `predict`.**\n",
    "\n",
    "**Note: You may NOT use sklearn for this implementation. You may, however, use `np.linalg.solve` to find the closed-form solution. It is highly recommended that you vectorize your code.**"
   ]
  },
  {
   "cell_type": "code",
   "execution_count": 20,
   "id": "d1a0741b",
   "metadata": {},
   "outputs": [],
   "source": [
    "class LinearRegression():\n",
    "    '''\n",
    "    Linear regression model with L2-regularization (i.e. ridge regression).\n",
    "\n",
    "    Attributes\n",
    "    ----------\n",
    "    alpha: regularization parameter\n",
    "    w: (n x 1) weight vector\n",
    "    '''\n",
    "    \n",
    "    def __init__(self, alpha=0):\n",
    "        self.alpha = alpha\n",
    "        self.w = None\n",
    "\n",
    "    def train(self, X, y):\n",
    "        '''Trains model using ridge regression closed-form solution \n",
    "        (sets w to its optimal value).\n",
    "        \n",
    "        Parameters\n",
    "        ----------\n",
    "        X : (m x n) feature matrix\n",
    "        y: (m x 1) label vector\n",
    "        \n",
    "        Returns\n",
    "        -------\n",
    "        None\n",
    "        '''\n",
    "        ### Your code here\n",
    "       \n",
    "        \n",
    "        return None\n",
    "        \n",
    "    def predict(self, X):\n",
    "        '''Predicts on X using trained model.\n",
    "        \n",
    "        Parameters\n",
    "        ----------\n",
    "        X : (m x n) feature matrix\n",
    "        \n",
    "        Returns\n",
    "        -------\n",
    "        y_pred: (m x 1) prediction vector\n",
    "        '''\n",
    "        ### Your code here\n",
    "        \n",
    "        "
   ]
  },
  {
   "cell_type": "markdown",
   "id": "9efff72f",
   "metadata": {},
   "source": [
    "### Train, Evaluate, and Interpret LR Model"
   ]
  },
  {
   "cell_type": "markdown",
   "id": "da794206",
   "metadata": {},
   "source": [
    "**2.1.8 Train a linear regression model ($\\alpha = 0$) on the bike rental training data. Make predictions and report the $R^2$ score on the training, validation, and test sets. Report the first 3 and last 3 predictions on the test set, along with the actual labels.**"
   ]
  },
  {
   "cell_type": "code",
   "execution_count": 21,
   "id": "0af9824b",
   "metadata": {},
   "outputs": [],
   "source": [
    "def get_report(y_pred, y_test):\n",
    "    \"\"\"\n",
    "    function to Report the first 3 and last 3 predictions on X_test,\n",
    "    along with the actual labels in y_test.\n",
    "    \n",
    "    Returns a dataframe with 6 rows.\n",
    "    \"\"\"\n",
    "    preds = np.concatenate([y_pred[:3], y_pred[-3:]])\n",
    "    actuals = np.concatenate([y_test[:3], y_test[-3:]])\n",
    "    df_compare = pd.DataFrame({'Prediction': preds,\n",
    "                               'Actual':actuals})\n",
    "    df_compare['Position'] = [1, 2, 3, len(y_pred) - 2, len(y_pred) - 1, len(y_pred)]\n",
    "    df_compare = df_compare.set_index('Position')\n",
    "    return df_compare"
   ]
  },
  {
   "cell_type": "code",
   "execution_count": 23,
   "id": "3336c55f",
   "metadata": {},
   "outputs": [],
   "source": [
    "### Code here\n"
   ]
  },
  {
   "cell_type": "markdown",
   "id": "7b79ca6b",
   "metadata": {},
   "source": [
    "**2.1.9 As a baseline model, use the mean of the training labels (bike_rental_y_train) as the prediction for all instances. Report the $R^2$ on the training, validation, and test sets using this baseline.** \n",
    "\n",
    ">This is a common baseline used in regression problems and tells you if your model is any good. Your linear regression $R^2$ should be much higher than these baseline $R^2$."
   ]
  },
  {
   "cell_type": "code",
   "execution_count": 24,
   "id": "5bd3cdb9",
   "metadata": {},
   "outputs": [],
   "source": [
    "### Code here\n"
   ]
  },
  {
   "cell_type": "markdown",
   "id": "70d82552",
   "metadata": {},
   "source": [
    "**2.1.10 Interpret your model trained on the bike rental dataset using a bar chart of the model weights. Make sure to label the bars (x-axis) and don't forget the bias term!**"
   ]
  },
  {
   "cell_type": "code",
   "execution_count": 25,
   "id": "a26a0159",
   "metadata": {},
   "outputs": [],
   "source": [
    "### Code here\n"
   ]
  },
  {
   "cell_type": "markdown",
   "id": "61337976",
   "metadata": {},
   "source": [
    "**2.1.11 According to your model, which features are the greatest contributors to the car price?**"
   ]
  },
  {
   "cell_type": "code",
   "execution_count": 26,
   "id": "5db507b9",
   "metadata": {},
   "outputs": [],
   "source": [
    "### Comment here\n"
   ]
  },
  {
   "cell_type": "markdown",
   "id": "f203c527",
   "metadata": {},
   "source": [
    "### Hyperparameter Tuning ($\\alpha$)"
   ]
  },
  {
   "cell_type": "markdown",
   "id": "96546618",
   "metadata": {},
   "source": [
    "Now, let's do ridge regression and tune the $\\alpha$ regularization parameter on the bike rental dataset.\n",
    "\n",
    "**2.1.12 Sweep out values for $\\alpha$ using alphas = np.logspace(-5, 1, 20). Perform a grid search over these $\\alpha$ values, recording the training and validation $R^2$ for each $\\alpha$. A simple grid search is fine, no need for k-fold cross validation. Plot the training and validation $R^2$ as a function of $\\alpha$ on a single figure. Make sure to label the axes and the training and validation $R^2$ curves. Use a log scale for the x-axis.**"
   ]
  },
  {
   "cell_type": "code",
   "execution_count": 27,
   "id": "eeb83ffd",
   "metadata": {},
   "outputs": [],
   "source": [
    "### Code here\n"
   ]
  },
  {
   "cell_type": "markdown",
   "id": "da9244f5",
   "metadata": {},
   "source": [
    "**2.1.13 Explain your plot above. How do training and validation $R^2$ behave with decreasing model complexity (increasing $\\alpha$)?**"
   ]
  },
  {
   "cell_type": "code",
   "execution_count": 28,
   "id": "8373ca6d",
   "metadata": {},
   "outputs": [],
   "source": [
    "### Comment here\n"
   ]
  },
  {
   "cell_type": "markdown",
   "id": "c6bb572a",
   "metadata": {},
   "source": [
    "### 2.2 Logistic Regression"
   ]
  },
  {
   "cell_type": "markdown",
   "id": "d7bd2d36",
   "metadata": {},
   "source": [
    "**2.2.1 Load the dataset, the dataset to be used is loan_data.csv**"
   ]
  },
  {
   "cell_type": "code",
   "execution_count": 29,
   "id": "a531b507",
   "metadata": {},
   "outputs": [],
   "source": [
    "### Code here\n"
   ]
  },
  {
   "cell_type": "code",
   "execution_count": 30,
   "id": "8ccfa17a",
   "metadata": {},
   "outputs": [],
   "source": [
    "# loan_data_df = loan_data_df.drop(columns=['Loan_ID'])"
   ]
  },
  {
   "cell_type": "markdown",
   "id": "b2c491a2",
   "metadata": {},
   "source": [
    "**2.2.2 Are there any missing values in the dataset? If so, what is the best way to deal with it and why?**"
   ]
  },
  {
   "cell_type": "code",
   "execution_count": 31,
   "id": "462cfc1e",
   "metadata": {},
   "outputs": [],
   "source": [
    "### Code here\n"
   ]
  },
  {
   "cell_type": "code",
   "execution_count": 32,
   "id": "b9db29c3",
   "metadata": {},
   "outputs": [],
   "source": [
    "### Code here\n"
   ]
  },
  {
   "cell_type": "code",
   "execution_count": 33,
   "id": "7ac212e4",
   "metadata": {},
   "outputs": [],
   "source": [
    "### Comment here\n"
   ]
  },
  {
   "cell_type": "markdown",
   "id": "8d1f500e",
   "metadata": {},
   "source": [
    "**2.2.3 Encode the categorical variables.**"
   ]
  },
  {
   "cell_type": "code",
   "execution_count": 34,
   "id": "bf9b90f8",
   "metadata": {},
   "outputs": [],
   "source": [
    "### Code here\n"
   ]
  },
  {
   "cell_type": "markdown",
   "id": "ad6c857e",
   "metadata": {},
   "source": [
    "**2.2.4 Do you think that the distribution of labels is balanced? Why/why not? Hint: Find the probability of the different categories.**"
   ]
  },
  {
   "cell_type": "code",
   "execution_count": 35,
   "id": "2651fe71",
   "metadata": {},
   "outputs": [],
   "source": [
    "### Code here\n"
   ]
  },
  {
   "cell_type": "code",
   "execution_count": 36,
   "id": "b8858d66",
   "metadata": {},
   "outputs": [],
   "source": [
    "### Comment here\n"
   ]
  },
  {
   "cell_type": "markdown",
   "id": "81d214f9",
   "metadata": {},
   "source": [
    "**2.2.5 Plot the correlation matrix (first separate features and Y variable), and check if there is high correlation between the given numerical features (Threshold >=0.9). If yes, drop those highly correlated features from the dataframe.**"
   ]
  },
  {
   "cell_type": "code",
   "execution_count": 37,
   "id": "088981a4",
   "metadata": {},
   "outputs": [],
   "source": [
    "### Code here\n"
   ]
  },
  {
   "cell_type": "code",
   "execution_count": 38,
   "id": "8754f3e2",
   "metadata": {},
   "outputs": [],
   "source": [
    "### Code here\n"
   ]
  },
  {
   "cell_type": "code",
   "execution_count": 39,
   "id": "a65ebe12",
   "metadata": {},
   "outputs": [],
   "source": [
    "### Code here\n"
   ]
  },
  {
   "cell_type": "markdown",
   "id": "09a40883",
   "metadata": {},
   "source": [
    "**2.2.6 Apply the following pre-processing steps:**\n",
    "\n",
    "1. Convert the label from a Pandas series to a Numpy (m x 1) vector. If you don't do this, it may cause problems when implementing the logistic regression model.\n",
    "2. Split the dataset into training (60%), validation (20%), and test (20%) sets.\n",
    "3. Standardize the columns in the feature matrices. To avoid information leakage, learn the standardization parameters from training, and then apply training, validation and test dataset.\n",
    "4. Add a column of ones to the feature matrices of train, validation and test dataset. This is a common trick so that we can learn a coefficient for the bias term of a linear model."
   ]
  },
  {
   "cell_type": "code",
   "execution_count": 40,
   "id": "41150c25",
   "metadata": {},
   "outputs": [],
   "source": [
    "### Code here\n"
   ]
  },
  {
   "cell_type": "markdown",
   "id": "7eb29880",
   "metadata": {},
   "source": [
    "### Implement Logisitc Regression\n",
    "\n",
    "We will now implement logistic regression with L2 regularization. Given an (m x n) feature matrix $X$, an (m x 1) label vector $y$, and an (n x 1) weight vector $w$, the hypothesis function for logistic regression is:\n",
    "\n",
    "$$\n",
    "y = \\sigma(X w)\n",
    "$$\n",
    "\n",
    "where $\\sigma(x) = \\frac{1}{1 + e^{-x}}$, i.e. the sigmoid function. This function scales the prediction to be a probability between 0 and 1, and can then be thresholded to get a discrete class prediction.\n",
    "\n",
    "Just as with linear regression, our objective in logistic regression is to learn the weights $𝑤$ which best fit the data. For L2-regularized logistic regression, we find an optimal $w$ to minimize the following loss function:\n",
    "\n",
    "$$\n",
    "\\min_{w} \\ -y^T \\ \\text{log}(\\sigma(Xw)) \\ - \\  (\\mathbf{1} - y)^T \\ \\text{log}(\\mathbf{1} - \\sigma(Xw)) \\ + \\ \\alpha \\| w \\|^2_2 \\\\\n",
    "$$\n",
    "\n",
    "Unlike linear regression, however, logistic regression has no closed-form solution for the optimal $w$. So, we will use gradient descent to find the optimal $w$. The (n x 1) gradient vector $g$ for the loss function above is:\n",
    "\n",
    "$$\n",
    "g = X^T \\Big(\\sigma(Xw) - y\\Big) + 2 \\alpha w\n",
    "$$\n",
    "\n",
    "Below is pseudocode for gradient descent to find the optimal $w$. You should first initialize $w$ (e.g. to a (n x 1) zero vector). Then, for some number of epochs $t$, you should update $w$ with $w - \\eta g $, where $\\eta$ is the learning rate and $g$ is the gradient. You can learn more about gradient descent [here](https://www.coursera.org/lecture/machine-learning/gradient-descent-8SpIM).\n",
    "\n",
    "> $w = \\mathbf{0}$\n",
    ">\n",
    "> $\\text{for } i = 1, 2, ..., t$\n",
    ">\n",
    "> $\\quad \\quad w = w - \\eta g $\n"
   ]
  },
  {
   "cell_type": "markdown",
   "id": "f7bad34c",
   "metadata": {},
   "source": [
    "**A LogisticRegression class with five methods: train, predict, calculate_loss, calculate_gradient, and calculate_sigmoid has been implemented for you below.**"
   ]
  },
  {
   "cell_type": "code",
   "execution_count": 41,
   "id": "7df28ab3",
   "metadata": {},
   "outputs": [],
   "source": [
    "class LogisticRegression():\n",
    "    '''\n",
    "    Logistic regression model with L2 regularization.\n",
    "\n",
    "    Attributes\n",
    "    ----------\n",
    "    alpha: regularization parameter\n",
    "    t: number of epochs to run gradient descent\n",
    "    eta: learning rate for gradient descent\n",
    "    w: (n x 1) weight vector\n",
    "    '''\n",
    "\n",
    "    def __init__(self, alpha=0, t=100, eta=1e-3):\n",
    "        self.alpha = alpha\n",
    "        self.t = t\n",
    "        self.eta = eta\n",
    "        self.w = None\n",
    "\n",
    "    def train(self, X, y):\n",
    "        '''Trains logistic regression model using gradient descent\n",
    "        (sets w to its optimal value).\n",
    "\n",
    "        Parameters\n",
    "        ----------\n",
    "        X : (m x n) feature matrix\n",
    "        y: (m x 1) label vector\n",
    "\n",
    "        Returns\n",
    "        -------\n",
    "        losses: (t x 1) vector of losses at each epoch of gradient descent\n",
    "        '''\n",
    "\n",
    "        loss = list()\n",
    "        self.w = np.zeros((X.shape[1],1))\n",
    "        for i in range(self.t):\n",
    "            self.w = self.w - (self.eta * self.calculate_gradient(X, y))\n",
    "            loss.append(self.calculate_loss(X, y))\n",
    "        return loss\n",
    "\n",
    "    def predict(self, X):\n",
    "        '''Predicts on X using trained model. Make sure to threshold\n",
    "        the predicted probability to return a 0 or 1 prediction.\n",
    "\n",
    "        Parameters\n",
    "        ----------\n",
    "        X : (m x n) feature matrix\n",
    "\n",
    "        Returns\n",
    "        -------\n",
    "        y_pred: (m x 1) 0/1 prediction vector\n",
    "        '''\n",
    "        y_pred = self.calculate_sigmoid(X.dot(self.w))\n",
    "        y_pred[y_pred >= 0.5] = 1\n",
    "        y_pred[y_pred < 0.5] = 0\n",
    "        return y_pred\n",
    "\n",
    "    def calculate_loss(self, X, y):\n",
    "        '''Calculates the logistic regression loss using X, y, w,\n",
    "        and alpha. Useful as a helper function for train().\n",
    "\n",
    "        Parameters\n",
    "        ----------\n",
    "        X : (m x n) feature matrix\n",
    "        y: (m x 1) label vector\n",
    "\n",
    "        Returns\n",
    "        -------\n",
    "        loss: (scalar) logistic regression loss\n",
    "        '''\n",
    "        return -y.T.dot(np.log(self.calculate_sigmoid(X.dot(self.w)))) - (1-y).T.dot(np.log(1-self.calculate_sigmoid(X.dot(self.w)))) + self.alpha*np.linalg.norm(self.w, ord=2)**2\n",
    "\n",
    "    def calculate_gradient(self, X, y):\n",
    "        '''Calculates the gradient of the logistic regression loss\n",
    "        using X, y, w, and alpha. Useful as a helper function\n",
    "        for train().\n",
    "\n",
    "        Parameters\n",
    "        ----------\n",
    "        X : (m x n) feature matrix\n",
    "        y: (m x 1) label vector\n",
    "\n",
    "        Returns\n",
    "        -------\n",
    "        gradient: (n x 1) gradient vector for logistic regression loss\n",
    "        '''\n",
    "        return X.T.dot(self.calculate_sigmoid( X.dot(self.w)) - y) + 2*self.alpha*self.w\n",
    "\n",
    "\n",
    "    def calculate_sigmoid(self, x):\n",
    "        '''Calculates the sigmoid function on each element in vector x.\n",
    "        Useful as a helper function for predict(), calculate_loss(),\n",
    "        and calculate_gradient().\n",
    "\n",
    "        Parameters\n",
    "        ----------\n",
    "        x: (m x 1) vector\n",
    "\n",
    "        Returns\n",
    "        -------\n",
    "        sigmoid_x: (m x 1) vector of sigmoid on each element in x\n",
    "        '''\n",
    "        return (1)/(1 + np.exp(-x.astype('float')))"
   ]
  },
  {
   "cell_type": "markdown",
   "id": "861990c4",
   "metadata": {},
   "source": [
    "**2.2.7 Plot Loss over Epoch and Search the space randomly to find best hyperparameters.**\n",
    "\n",
    "i) Using your implementation above, train a logistic regression model **(alpha=0, t=100, eta=1e-3)** on the loan training data. Plot the training loss over epochs. Make sure to label your axes. You should see the loss decreasing and start to converge.\n",
    "\n",
    "ii) Using **alpha between (0,1), eta between(0, 0.001) and t between (0, 100)**, find the best hyperparameters for LogisticRegression. You can randomly search the space 20 times to find the best hyperparameters.\n",
    "\n",
    "iii) Compare accuracy on the test dataset for both the scenarios."
   ]
  },
  {
   "cell_type": "code",
   "execution_count": 42,
   "id": "bec1adb5",
   "metadata": {},
   "outputs": [],
   "source": [
    "### Code here\n"
   ]
  },
  {
   "cell_type": "code",
   "execution_count": 43,
   "id": "3043a971",
   "metadata": {},
   "outputs": [],
   "source": [
    "### Code here \n"
   ]
  },
  {
   "cell_type": "code",
   "execution_count": 44,
   "id": "a2b80593",
   "metadata": {},
   "outputs": [],
   "source": [
    "### Code here\n"
   ]
  },
  {
   "cell_type": "code",
   "execution_count": 45,
   "id": "7f2c2e20",
   "metadata": {},
   "outputs": [],
   "source": [
    "### Code here\n"
   ]
  },
  {
   "cell_type": "markdown",
   "id": "c91a46d6",
   "metadata": {},
   "source": [
    "### Feature Importance\n",
    "\n",
    "**2.2.8 Interpret your trained model using a bar chart of the model weights. Make sure to label the bars (x-axis) and don't forget the bias term!**"
   ]
  },
  {
   "cell_type": "code",
   "execution_count": 46,
   "id": "a7f59753",
   "metadata": {},
   "outputs": [],
   "source": [
    "### Code here\n"
   ]
  },
  {
   "cell_type": "code",
   "execution_count": 47,
   "id": "1d80a40d",
   "metadata": {},
   "outputs": [],
   "source": [
    "### Comment here\n"
   ]
  },
  {
   "cell_type": "markdown",
   "id": "ccd1133f",
   "metadata": {},
   "source": [
    "### 2.3 Support Vector Machines\n",
    "\n",
    "In this part, we will be using support vector machines for classification on the loan dataset."
   ]
  },
  {
   "cell_type": "markdown",
   "id": "fa721556",
   "metadata": {},
   "source": [
    "### Train Primal SVM\n",
    "**2.3.1 Train a primal SVM (with default parameters) on the loan dataset. Make predictions and report the accuracy on the training, validation, and test sets.**"
   ]
  },
  {
   "cell_type": "code",
   "execution_count": 48,
   "id": "3490ce4f",
   "metadata": {},
   "outputs": [],
   "source": [
    "### Code here\n"
   ]
  },
  {
   "cell_type": "markdown",
   "id": "395b73d4",
   "metadata": {},
   "source": [
    "### Train Dual SVM\n",
    "**2.3.2 Train a dual SVM (with default parameters) on the loan dataset. Make predictions and report the accuracy on the training, validation, and test sets.**"
   ]
  },
  {
   "cell_type": "code",
   "execution_count": 49,
   "id": "c4d762dd",
   "metadata": {},
   "outputs": [],
   "source": [
    "### Code here\n"
   ]
  },
  {
   "cell_type": "code",
   "execution_count": null,
   "id": "c1cbb04c",
   "metadata": {},
   "outputs": [],
   "source": []
  }
 ],
 "metadata": {
  "kernelspec": {
   "display_name": "Python 3 (ipykernel)",
   "language": "python",
   "name": "python3"
  },
  "language_info": {
   "codemirror_mode": {
    "name": "ipython",
    "version": 3
   },
   "file_extension": ".py",
   "mimetype": "text/x-python",
   "name": "python",
   "nbconvert_exporter": "python",
   "pygments_lexer": "ipython3",
   "version": "3.9.12"
  }
 },
 "nbformat": 4,
 "nbformat_minor": 5
}
